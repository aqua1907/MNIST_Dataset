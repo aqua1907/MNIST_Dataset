{
 "cells": [
  {
   "cell_type": "code",
   "execution_count": 1,
   "metadata": {},
   "outputs": [
    {
     "name": "stderr",
     "output_type": "stream",
     "text": [
      "Using TensorFlow backend.\n"
     ]
    },
    {
     "name": "stdout",
     "output_type": "stream",
     "text": [
      "TensorFlow verison:  1.13.1\n",
      "Keras version:  2.2.4-tf\n",
      "Channels dimension of image:  channels_last\n"
     ]
    }
   ],
   "source": [
    "# Імпортуемо бібліотека з нейронную мережею та дані для навчання\n",
    "import tensorflow.keras as keras\n",
    "import tensorflow as tf\n",
    "import numpy as np\n",
    "from keras.backend import tensorflow_backend\n",
    "\n",
    "print(\"TensorFlow verison: \", tf.VERSION)\n",
    "print(\"Keras version: \", tf.keras.__version__)\n",
    "print(\"Channels dimension of image: \", tf.keras.backend.image_data_format())\n",
    "config = tf.ConfigProto(gpu_options=tf.GPUOptions(allow_growth=True))\n",
    "session = tf.Session(config=config)\n",
    "tensorflow_backend.set_session(session)"
   ]
  },
  {
   "cell_type": "code",
   "execution_count": 2,
   "metadata": {},
   "outputs": [
    {
     "data": {
      "image/png": "[encoded data removed]",
      "text/plain": [
       "<Figure size 432x288 with 1 Axes>"
      ]
     },
     "metadata": {
      "needs_background": "light"
     },
     "output_type": "display_data"
    }
   ],
   "source": [
    "# Завантаження данних, та розподілення на тренувальну і навчальну вибірки. За приклад взяті дані рукописних цифр\n",
    "mnist = tf.keras.datasets.mnist\n",
    "(x_train, y_train),(x_test, y_test) = mnist.load_data()\n",
    "\n",
    "# Створення графіка\n",
    "%matplotlib inline\n",
    "import matplotlib.pyplot as plt\n",
    "\n",
    "plt.imshow(x_train[0],cmap=\"gray\")\n",
    "plt.show()"
   ]
  },
  {
   "cell_type": "code",
   "execution_count": 3,
   "metadata": {},
   "outputs": [],
   "source": [
    "X_test_img = x_test"
   ]
  },
  {
   "cell_type": "code",
   "execution_count": 4,
   "metadata": {},
   "outputs": [],
   "source": [
    "# Для отримання більш точної моделі, треба змаштабувати дані. Метод нормалізації.\n",
    "# Приймає зачення від 0 до 1\n",
    "x_train = tf.keras.utils.normalize(x_train, axis=1)\n",
    "x_test = tf.keras.utils.normalize(x_test, axis=1)"
   ]
  },
  {
   "cell_type": "code",
   "execution_count": 5,
   "metadata": {},
   "outputs": [],
   "source": [
    "x_valid, x_train = x_train[:10000], x_train[10000:]\n",
    "y_valid, y_train = y_train[:10000], y_train[10000:]"
   ]
  },
  {
   "cell_type": "code",
   "execution_count": 6,
   "metadata": {},
   "outputs": [
    {
     "name": "stdout",
     "output_type": "stream",
     "text": [
      "WARNING:tensorflow:From D:\\Games\\Anaconda3\\lib\\site-packages\\tensorflow\\python\\ops\\resource_variable_ops.py:435: colocate_with (from tensorflow.python.framework.ops) is deprecated and will be removed in a future version.\n",
      "Instructions for updating:\n",
      "Colocations handled automatically by placer.\n",
      "Train on 50000 samples, validate on 10000 samples\n",
      "Epoch 1/1000\n",
      "50000/50000 [==============================] - 6s 117us/sample - loss: 0.2356 - acc: 0.9298 - val_loss: 0.1186 - val_acc: 0.9659\n",
      "Epoch 2/1000\n",
      "50000/50000 [==============================] - 5s 104us/sample - loss: 0.0924 - acc: 0.9711 - val_loss: 0.0994 - val_acc: 0.9707\n",
      "Epoch 3/1000\n",
      "50000/50000 [==============================] - 5s 107us/sample - loss: 0.0612 - acc: 0.9801 - val_loss: 0.0894 - val_acc: 0.9737\n",
      "Epoch 4/1000\n",
      "50000/50000 [==============================] - 5s 105us/sample - loss: 0.0437 - acc: 0.9853 - val_loss: 0.1086 - val_acc: 0.9696\n",
      "Epoch 5/1000\n",
      "50000/50000 [==============================] - 5s 108us/sample - loss: 0.0330 - acc: 0.9891 - val_loss: 0.0938 - val_acc: 0.9753\n",
      "Epoch 6/1000\n",
      "50000/50000 [==============================] - 6s 118us/sample - loss: 0.0263 - acc: 0.9911 - val_loss: 0.1104 - val_acc: 0.9714\n",
      "Epoch 7/1000\n",
      "50000/50000 [==============================] - 6s 116us/sample - loss: 0.0216 - acc: 0.9927 - val_loss: 0.1215 - val_acc: 0.9705\n",
      "Epoch 8/1000\n",
      "50000/50000 [==============================] - 6s 113us/sample - loss: 0.0205 - acc: 0.9932 - val_loss: 0.0999 - val_acc: 0.9767\n",
      "Epoch 9/1000\n",
      "50000/50000 [==============================] - 5s 107us/sample - loss: 0.0165 - acc: 0.9946 - val_loss: 0.1333 - val_acc: 0.9723\n",
      "Epoch 10/1000\n",
      "50000/50000 [==============================] - 5s 106us/sample - loss: 0.0152 - acc: 0.9948 - val_loss: 0.1197 - val_acc: 0.9748\n",
      "Epoch 11/1000\n",
      "50000/50000 [==============================] - 5s 109us/sample - loss: 0.0132 - acc: 0.9954 - val_loss: 0.1016 - val_acc: 0.9785\n",
      "Epoch 12/1000\n",
      "50000/50000 [==============================] - 5s 107us/sample - loss: 0.0136 - acc: 0.9956 - val_loss: 0.1361 - val_acc: 0.9745\n",
      "Epoch 13/1000\n",
      "49696/50000 [============================>.] - ETA: 0s - loss: 0.0126 - acc: 0.9959\n",
      "Restoring model weights from the end of the best epoch. Best epoch = 2\n",
      "50000/50000 [==============================] - 5s 106us/sample - loss: 0.0126 - acc: 0.9959 - val_loss: 0.1285 - val_acc: 0.9759\n",
      "Epoch 00013: early stopping\n"
     ]
    },
    {
     "data": {
      "text/plain": [
       "<tensorflow.python.keras.callbacks.History at 0x2129feb8c18>"
      ]
     },
     "execution_count": 6,
     "metadata": {},
     "output_type": "execute_result"
    }
   ],
   "source": [
    "# Будуємо модель нейронної мережи послідовно\n",
    "model = tf.keras.models.Sequential()\n",
    "# Так як масив є баговимірним 28х28, то треба його сплюснути до 1х784\n",
    "# Це буде вхідним шаром мережи\n",
    "model.add(tf.keras.layers.Flatten())\n",
    "# Додаємо 2 шари прихованих мереж для розрахунку\n",
    "model.add(tf.keras.layers.Dense(256, activation=tf.nn.relu))\n",
    "model.add(tf.keras.layers.Dense(512, activation=tf.nn.relu))\n",
    "# Шар вихідних даних, їх 10, бо від 0 до 9\n",
    "model.add(tf.keras.layers.Dense(10, activation=tf.nn.softmax))\n",
    "# \"Компілюємо\" модель, вибираємо метрики\n",
    "model.compile(optimizer='adam',\n",
    "              loss='sparse_categorical_crossentropy',\n",
    "              metrics=['accuracy'])\n",
    "\n",
    "early_stop = keras.callbacks.EarlyStopping(monitor='val_loss', mode='min', patience=10, \n",
    "                                           verbose=1, restore_best_weights=True)\n",
    "\n",
    "# Будеємо модель, 3 цикли\n",
    "model.fit(x_train, y_train, epochs=1000, \n",
    "          callbacks=[early_stop], \n",
    "          validation_data=[x_valid, y_valid], \n",
    "          verbose=1)"
   ]
  },
  {
   "cell_type": "code",
   "execution_count": 7,
   "metadata": {},
   "outputs": [
    {
     "name": "stdout",
     "output_type": "stream",
     "text": [
      "10000/10000 [==============================] - 0s 45us/sample - loss: 0.0883 - acc: 0.9732\n",
      "Втрати = 0.08828407628680579\n",
      "Точність = 97.32%\n"
     ]
    }
   ],
   "source": [
    "loss, acc = model.evaluate(x_test, y_test)\n",
    "print(\"Втрати = {}\".format(loss))\n",
    "print(\"Точність = {:.2f}%\".format(acc * 100))"
   ]
  },
  {
   "cell_type": "code",
   "execution_count": 8,
   "metadata": {},
   "outputs": [],
   "source": [
    "# Прогнузування значень\n",
    "predictions = model.predict(x_test)"
   ]
  },
  {
   "cell_type": "code",
   "execution_count": 9,
   "metadata": {},
   "outputs": [
    {
     "name": "stdout",
     "output_type": "stream",
     "text": [
      "1\n"
     ]
    },
    {
     "data": {
      "image/png": "[encoded data removed]",
      "text/plain": [
       "<Figure size 432x288 with 1 Axes>"
      ]
     },
     "metadata": {
      "needs_background": "light"
     },
     "output_type": "display_data"
    }
   ],
   "source": [
    "print(np.argmax(predictions[5]))\n",
    "plt.imshow(X_test_img[5],cmap=\"gray\")\n",
    "plt.show()"
   ]
  },
  {
   "cell_type": "code",
   "execution_count": 10,
   "metadata": {},
   "outputs": [
    {
     "name": "stdout",
     "output_type": "stream",
     "text": [
      "(10000,)\n",
      "(10000,)\n"
     ]
    }
   ],
   "source": [
    "def one_hot_decode(encoded_seq):\n",
    "    return [np.argmax(vector) for vector in encoded_seq]\n",
    "\n",
    "preds = np.array(one_hot_decode(predictions))\n",
    "\n",
    "print(preds.shape)\n",
    "print(y_test.shape)"
   ]
  },
  {
   "cell_type": "code",
   "execution_count": 11,
   "metadata": {},
   "outputs": [
    {
     "name": "stdout",
     "output_type": "stream",
     "text": [
      "Correct: (9732,)\n",
      "Incorrect: (268,)\n"
     ]
    }
   ],
   "source": [
    "correct = np.where(preds==y_test)[0]\n",
    "incorrect = np.where(preds!=y_test)[0]\n",
    "\n",
    "print(\"Correct: {}\".format(correct.shape))\n",
    "print(\"Incorrect: {}\".format(incorrect.shape))\n"
   ]
  },
  {
   "cell_type": "code",
   "execution_count": 12,
   "metadata": {},
   "outputs": [
    {
     "data": {
      "text/plain": [
       "(268, 28, 28)"
      ]
     },
     "execution_count": 12,
     "metadata": {},
     "output_type": "execute_result"
    }
   ],
   "source": [
    "from numpy.random import permutation\n",
    "\n",
    "# К-сть картинок для зображення\n",
    "n_view = incorrect.shape[0]\n",
    "\n",
    "# Отримання випадкового вибору з правильно-прогнозованих картинок\n",
    "idx = permutation(correct)[:n_view]\n",
    "idx_incorrect = permutation(incorrect)[:n_view]\n",
    "\n",
    "# Створення масиву випадкових результатів\n",
    "preds_correct = preds[idx]\n",
    "preds_incorrect = preds[idx_incorrect]\n",
    "\n",
    "imgs = X_test_img[idx]\n",
    "imgs_incorrect = X_test_img[idx_incorrect]\n",
    "\n",
    "imgs.shape"
   ]
  },
  {
   "cell_type": "code",
   "execution_count": 13,
   "metadata": {},
   "outputs": [
    {
     "data": {
      "image/png": "[encoded data removed]",
      "text/plain": [
       "<Figure size 864x288 with 30 Axes>"
      ]
     },
     "metadata": {
      "needs_background": "light"
     },
     "output_type": "display_data"
    }
   ],
   "source": [
    "# Зображення перших 30 картинок рупоисних літер\n",
    "f = plt.figure(figsize=(12,4))\n",
    "\n",
    "for i in range(30):\n",
    "    sp = f.add_subplot(3, 10, i+1)\n",
    "    sp.axis('Off')\n",
    "    sp.set_title(preds_correct[i])\n",
    "    img = imgs[i].astype('float32')\n",
    "    plt.imshow(img, cmap='gray')"
   ]
  },
  {
   "cell_type": "code",
   "execution_count": null,
   "metadata": {},
   "outputs": [],
   "source": []
  }
 ],
 "metadata": {
  "kernelspec": {
   "display_name": "Python 3",
   "language": "python",
   "name": "python3"
  },
  "language_info": {
   "codemirror_mode": {
    "name": "ipython",
    "version": 3
   },
   "file_extension": ".py",
   "mimetype": "text/x-python",
   "name": "python",
   "nbconvert_exporter": "python",
   "pygments_lexer": "ipython3",
   "version": "3.7.3"
  }
 },
 "nbformat": 4,
 "nbformat_minor": 2
}
