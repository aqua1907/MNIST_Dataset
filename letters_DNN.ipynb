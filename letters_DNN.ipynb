{
 "cells": [
  {
   "cell_type": "code",
   "execution_count": 64,
   "metadata": {},
   "outputs": [],
   "source": [
    "from scipy import io as spio\n",
    "import numpy as np\n",
    "# Датасет руписних літер\n",
    "emnist = spio.loadmat(\"emnist-letters.mat\")\n",
    "\n",
    "# Завантаження тренувальної вибірки\n",
    "x_train = emnist[\"dataset\"][0][0][0][0][0][0]\n",
    "x_train = x_train.astype(np.float32)\n",
    "\n",
    "# Завантаження тренувальної вибірки\n",
    "y_train = emnist[\"dataset\"][0][0][0][0][0][1]\n",
    "\n",
    "# Завантаження тестової вибірки\n",
    "x_test = emnist[\"dataset\"][0][0][1][0][0][0]\n",
    "x_test = x_test.astype(np.float32)\n",
    "\n",
    "# Завантаження тестової вибірки\n",
    "y_test = emnist[\"dataset\"][0][0][1][0][0][1]\n"
   ]
  },
  {
   "cell_type": "code",
   "execution_count": 65,
   "metadata": {},
   "outputs": [],
   "source": [
    "def reset_graph(seed=42):\n",
    "    tf.reset_default_graph()\n",
    "    tf.set_random_seed(seed)\n",
    "    np.random.seed(seed)\n",
    "    \n",
    "def shuffle_batch(X, y, batch_size):\n",
    "    rnd_idx = np.random.permutation(len(X))\n",
    "    n_batches = len(X) // batch_size\n",
    "    for batch_idx in np.array_split(rnd_idx, n_batches):\n",
    "        X_batch, y_batch = X[batch_idx], y[batch_idx]\n",
    "        yield X_batch, y_batch    "
   ]
  },
  {
   "cell_type": "code",
   "execution_count": 66,
   "metadata": {},
   "outputs": [
    {
     "name": "stdout",
     "output_type": "stream",
     "text": [
      "Формат (124800, 28, 28)\n"
     ]
    }
   ],
   "source": [
    "# Переформування масиву з 124800х784 до 124800х28х28\n",
    "x_train = x_train.reshape(x_train.shape[0], 28, 28, order=\"A\")\n",
    "x_test = x_test.reshape(x_test.shape[0], 28, 28, order=\"A\")\n",
    "\n",
    "print(\"Формат {}\".format(x_train.shape))"
   ]
  },
  {
   "cell_type": "code",
   "execution_count": 68,
   "metadata": {
    "scrolled": true
   },
   "outputs": [
    {
     "data": {
      "image/png": "[encoded data removed]",
      "text/plain": [
       "<Figure size 432x288 with 1 Axes>"
      ]
     },
     "metadata": {
      "needs_background": "light"
     },
     "output_type": "display_data"
    },
    {
     "name": "stdout",
     "output_type": "stream",
     "text": [
      "Форма властивостей (124800, 28, 28)\n"
     ]
    }
   ],
   "source": [
    "# Створення графіка\n",
    "import matplotlib.pyplot as plt\n",
    "\n",
    "plt.imshow(x_train[0],cmap=plt.cm.binary)\n",
    "plt.show()\n",
    "\n",
    "print(\"Форма властивостей {}\".format(x_train.shape))"
   ]
  },
  {
   "cell_type": "code",
   "execution_count": 69,
   "metadata": {},
   "outputs": [
    {
     "name": "stdout",
     "output_type": "stream",
     "text": [
      "Форма відповідей (124800,)\n"
     ]
    }
   ],
   "source": [
    "# Переформування масиву з 124800х1 до 124800\n",
    "y_train = y_train.ravel()\n",
    "y_test = y_test.ravel()\n",
    "\n",
    "print(\"Форма відповідей {}\".format(y_train.shape))"
   ]
  },
  {
   "cell_type": "code",
   "execution_count": 70,
   "metadata": {},
   "outputs": [],
   "source": [
    "# Імпортуемо бібліотекy з нейронную мережею\n",
    "import tensorflow.keras as keras\n",
    "import tensorflow as tf\n",
    "\n",
    "# Для отримання більш точної моделі, треба змаштабувати дані. Метод нормалізації.\n",
    "# Приймає зачення від 0 до 1\n",
    "x_train = tf.keras.utils.normalize(x_train, axis=1)\n",
    "x_test = tf.keras.utils.normalize(x_test, axis=1)"
   ]
  },
  {
   "cell_type": "code",
   "execution_count": 71,
   "metadata": {},
   "outputs": [
    {
     "data": {
      "image/png": "[encoded data removed]",
      "text/plain": [
       "<Figure size 432x288 with 1 Axes>"
      ]
     },
     "metadata": {
      "needs_background": "light"
     },
     "output_type": "display_data"
    }
   ],
   "source": [
    "plt.imshow(x_train[0],cmap=plt.cm.binary)\n",
    "plt.show()"
   ]
  },
  {
   "cell_type": "code",
   "execution_count": 73,
   "metadata": {},
   "outputs": [],
   "source": [
    "x_valid, x_train = x_train[:5000], x_train[5000:]\n",
    "y_valid, y_train = y_train[:5000], y_train[5000:]"
   ]
  },
  {
   "cell_type": "code",
   "execution_count": 79,
   "metadata": {},
   "outputs": [
    {
     "name": "stdout",
     "output_type": "stream",
     "text": [
      "(5000, 784)\n",
      "(119800, 784)\n",
      "(20800, 784)\n"
     ]
    }
   ],
   "source": [
    "x_valid = x_valid.astype(np.float32).reshape(-1, 28*28)\n",
    "x_train = x_train.astype(np.float32).reshape(-1, 28*28)\n",
    "x_test = x_test.astype(np.float32).reshape(-1, 28*28)\n",
    "\n",
    "print(x_valid.shape)\n",
    "print(x_train.shape)\n",
    "print(x_test.shape)"
   ]
  },
  {
   "cell_type": "code",
   "execution_count": 96,
   "metadata": {},
   "outputs": [],
   "source": [
    "from functools import partial\n",
    "\n",
    "n_inputs = 28 * 28 # MNIST\n",
    "n_hidden1 = 300\n",
    "n_hidden2 = 200\n",
    "n_hidden3 = 100\n",
    "n_outputs = 27\n",
    "\n",
    "batch_norm_momentum = 0.9\n",
    "\n",
    "reset_graph()\n",
    "\n",
    "X = tf.placeholder(tf.float32, shape=(None, n_inputs), name=\"X\")\n",
    "y = tf.placeholder(tf.int32, shape=(None), name=\"y\")\n",
    "training = tf.placeholder_with_default(False, shape=(), name='training')\n",
    "\n",
    "he_init = tf.variance_scaling_initializer()\n",
    "\n",
    "my_batch_norm_layer = partial(\n",
    "            tf.layers.batch_normalization,\n",
    "            training=training,\n",
    "            momentum=batch_norm_momentum)\n",
    "\n",
    "my_dense_layer = partial(\n",
    "            tf.layers.dense,\n",
    "            kernel_initializer=he_init)\n",
    "\n",
    "hidden1 = my_dense_layer(X, n_hidden1, name=\"hidden1\")\n",
    "bn1 = tf.nn.elu(my_batch_norm_layer(hidden1))\n",
    "hidden2 = my_dense_layer(bn1, n_hidden2, name=\"hidden2\")\n",
    "bn2 = tf.nn.elu(my_batch_norm_layer(hidden2))\n",
    "hidden3 = my_dense_layer(bn2, n_hidden3, name=\"hidden3\")\n",
    "bn3 = tf.nn.elu(my_batch_norm_layer(hidden3))\n",
    "logits_before_bn = my_dense_layer(bn3, n_outputs, name=\"outputs\")\n",
    "logits = my_batch_norm_layer(logits_before_bn)\n",
    "\n",
    "Y_proba = tf.nn.softmax(logits, name=\"Y_proba\")"
   ]
  },
  {
   "cell_type": "code",
   "execution_count": 97,
   "metadata": {},
   "outputs": [],
   "source": [
    "learning_rate = 0.01\n",
    "\n",
    "xentropy = tf.nn.sparse_softmax_cross_entropy_with_logits(labels=y, logits=logits)\n",
    "loss = tf.reduce_mean(xentropy, name=\"loss\")\n",
    "\n",
    "optimizer = tf.train.AdamOptimizer(learning_rate)\n",
    "training_op = optimizer.minimize(loss, name=\"training_op\")\n",
    "\n",
    "correct = tf.nn.in_top_k(logits, y, 1)\n",
    "accuracy = tf.reduce_mean(tf.cast(correct, tf.float32), name=\"accuracy\")\n",
    "\n",
    "init = tf.global_variables_initializer()\n",
    "saver = tf.train.Saver()"
   ]
  },
  {
   "cell_type": "code",
   "execution_count": 104,
   "metadata": {},
   "outputs": [
    {
     "name": "stdout",
     "output_type": "stream",
     "text": [
      "0\tValidation loss: 0.396871\tBest loss: 0.396871\tAccuracy: 86.98%\n",
      "1\tValidation loss: 0.330344\tBest loss: 0.330344\tAccuracy: 88.90%\n",
      "2\tValidation loss: 0.306921\tBest loss: 0.306921\tAccuracy: 89.16%\n",
      "3\tValidation loss: 0.282561\tBest loss: 0.282561\tAccuracy: 90.88%\n",
      "4\tValidation loss: 0.282101\tBest loss: 0.282101\tAccuracy: 90.24%\n",
      "5\tValidation loss: 0.264081\tBest loss: 0.264081\tAccuracy: 90.84%\n",
      "6\tValidation loss: 0.264189\tBest loss: 0.264081\tAccuracy: 91.28%\n",
      "7\tValidation loss: 0.250019\tBest loss: 0.250019\tAccuracy: 91.62%\n",
      "8\tValidation loss: 0.270551\tBest loss: 0.250019\tAccuracy: 91.70%\n",
      "9\tValidation loss: 0.263618\tBest loss: 0.250019\tAccuracy: 91.64%\n",
      "10\tValidation loss: 0.268514\tBest loss: 0.250019\tAccuracy: 91.86%\n",
      "11\tValidation loss: 0.254490\tBest loss: 0.250019\tAccuracy: 91.98%\n",
      "12\tValidation loss: 0.265174\tBest loss: 0.250019\tAccuracy: 91.76%\n",
      "13\tValidation loss: 0.265742\tBest loss: 0.250019\tAccuracy: 91.70%\n",
      "14\tValidation loss: 0.264081\tBest loss: 0.250019\tAccuracy: 92.02%\n",
      "15\tValidation loss: 0.275561\tBest loss: 0.250019\tAccuracy: 91.56%\n",
      "16\tValidation loss: 0.279613\tBest loss: 0.250019\tAccuracy: 91.90%\n",
      "17\tValidation loss: 0.299293\tBest loss: 0.250019\tAccuracy: 91.42%\n",
      "18\tValidation loss: 0.291364\tBest loss: 0.250019\tAccuracy: 91.94%\n",
      "19\tValidation loss: 0.289849\tBest loss: 0.250019\tAccuracy: 91.84%\n",
      "20\tValidation loss: 0.306441\tBest loss: 0.250019\tAccuracy: 91.98%\n",
      "21\tValidation loss: 0.292743\tBest loss: 0.250019\tAccuracy: 92.04%\n",
      "22\tValidation loss: 0.298805\tBest loss: 0.250019\tAccuracy: 92.06%\n",
      "23\tValidation loss: 0.305690\tBest loss: 0.250019\tAccuracy: 91.90%\n",
      "24\tValidation loss: 0.324586\tBest loss: 0.250019\tAccuracy: 91.64%\n",
      "25\tValidation loss: 0.304933\tBest loss: 0.250019\tAccuracy: 92.24%\n",
      "26\tValidation loss: 0.313811\tBest loss: 0.250019\tAccuracy: 91.72%\n",
      "27\tValidation loss: 0.320166\tBest loss: 0.250019\tAccuracy: 91.70%\n",
      "Early stopping!\n",
      "INFO:tensorflow:Restoring parameters from ./mnist_letters.ckpt\n",
      "Final test accuracy: 91.57%\n"
     ]
    }
   ],
   "source": [
    "extra_update_ops = tf.get_collection(tf.GraphKeys.UPDATE_OPS)\n",
    "\n",
    "n_epochs = 1000\n",
    "batch_size = 100\n",
    "\n",
    "max_checks_without_progress = 20\n",
    "checks_without_progress = 0\n",
    "best_loss = np.infty\n",
    "\n",
    "with tf.Session() as sess:\n",
    "    init.run()\n",
    "\n",
    "    for epoch in range(n_epochs):\n",
    "        rnd_idx = np.random.permutation(len(x_train))\n",
    "        for rnd_indices in np.array_split(rnd_idx, len(x_train) // batch_size):\n",
    "            X_batch, y_batch = x_train[rnd_indices], y_train[rnd_indices]\n",
    "            sess.run([training_op, extra_update_ops], feed_dict={training: True, X: X_batch, y: y_batch})\n",
    "        loss_val, acc_val = sess.run([loss, accuracy], feed_dict={X: x_valid, y: y_valid})\n",
    "        if loss_val < best_loss:\n",
    "            save_path = saver.save(sess, \"./mnist_letters.ckpt\")\n",
    "            best_loss = loss_val\n",
    "            checks_without_progress = 0\n",
    "        else:\n",
    "            checks_without_progress += 1\n",
    "            if checks_without_progress > max_checks_without_progress:\n",
    "                print(\"Early stopping!\")\n",
    "                break\n",
    "        print(\"{}\\tValidation loss: {:.6f}\\tBest loss: {:.6f}\\tAccuracy: {:.2f}%\".format(\n",
    "            epoch, loss_val, best_loss, acc_val * 100))\n",
    "\n",
    "with tf.Session() as sess:\n",
    "    saver.restore(sess, \"./mnist_letters.ckpt\")\n",
    "    acc_test = accuracy.eval(feed_dict={X: x_test, y: y_test})\n",
    "    predictions = Y_proba.eval(feed_dict={X: x_test, y: y_test})\n",
    "    print(\"Final test accuracy: {:.2f}%\".format(acc_test * 100))"
   ]
  },
  {
   "cell_type": "code",
   "execution_count": 105,
   "metadata": {},
   "outputs": [
    {
     "name": "stdout",
     "output_type": "stream",
     "text": [
      "1\n"
     ]
    }
   ],
   "source": [
    "print(np.argmax(predictions[5]))"
   ]
  },
  {
   "cell_type": "code",
   "execution_count": 107,
   "metadata": {},
   "outputs": [
    {
     "data": {
      "image/png": "[encoded data removed]",
      "text/plain": [
       "<Figure size 432x288 with 1 Axes>"
      ]
     },
     "metadata": {
      "needs_background": "light"
     },
     "output_type": "display_data"
    }
   ],
   "source": [
    "x_test = x_test.reshape(x_test.shape[0], 28, 28, order=\"A\")\n",
    "\n",
    "plt.imshow(x_test[5],cmap=plt.cm.binary)\n",
    "plt.show()"
   ]
  },
  {
   "cell_type": "code",
   "execution_count": 108,
   "metadata": {},
   "outputs": [],
   "source": [
    "# Декодування літер з масиву-прогнозування\n",
    "def one_hot_decode(encoded_seq):\n",
    "    return [np.argmax(vector) for vector in encoded_seq]"
   ]
  },
  {
   "cell_type": "code",
   "execution_count": 109,
   "metadata": {},
   "outputs": [],
   "source": [
    "preds = np.array(one_hot_decode(predictions))"
   ]
  },
  {
   "cell_type": "code",
   "execution_count": 110,
   "metadata": {},
   "outputs": [
    {
     "name": "stdout",
     "output_type": "stream",
     "text": [
      "(20800,)\n",
      "(20800,)\n"
     ]
    }
   ],
   "source": [
    "print(preds.shape)\n",
    "print(y_test.shape)"
   ]
  },
  {
   "cell_type": "code",
   "execution_count": 111,
   "metadata": {},
   "outputs": [],
   "source": [
    "# Підрахунок правильних і неправльних результатів\n",
    "correct = np.where(preds==y_test)[0]\n",
    "incorrect = np.where(preds!=y_test)[0]"
   ]
  },
  {
   "cell_type": "code",
   "execution_count": 112,
   "metadata": {},
   "outputs": [
    {
     "name": "stdout",
     "output_type": "stream",
     "text": [
      "(19047,)\n",
      "(1753,)\n"
     ]
    }
   ],
   "source": [
    "print(correct.shape)\n",
    "print(incorrect.shape)"
   ]
  },
  {
   "cell_type": "code",
   "execution_count": 113,
   "metadata": {},
   "outputs": [],
   "source": [
    "# К-сть картинок для зображення\n",
    "n_view = incorrect.shape[0]"
   ]
  },
  {
   "cell_type": "code",
   "execution_count": 114,
   "metadata": {},
   "outputs": [],
   "source": [
    "from numpy.random import permutation\n",
    "\n",
    "# Отримання випадкового вибору з правильно-прогнозованих картинок\n",
    "idx = permutation(correct)[:n_view]\n",
    "idx_incorrect = permutation(incorrect)[:n_view]"
   ]
  },
  {
   "cell_type": "code",
   "execution_count": 115,
   "metadata": {},
   "outputs": [
    {
     "data": {
      "text/plain": [
       "(1753, 28, 28)"
      ]
     },
     "execution_count": 115,
     "metadata": {},
     "output_type": "execute_result"
    }
   ],
   "source": [
    "# Створення масиву випадкових результатів\n",
    "preds_correct = preds[idx]\n",
    "preds_incorrect = preds[idx_incorrect]\n",
    "\n",
    "imgs = x_test[idx]\n",
    "imgs_incorrect = x_test[idx_incorrect]\n",
    "\n",
    "imgs.shape"
   ]
  },
  {
   "cell_type": "code",
   "execution_count": 116,
   "metadata": {},
   "outputs": [
    {
     "data": {
      "image/png": "[encoded data removed]",
      "text/plain": [
       "<Figure size 864x288 with 30 Axes>"
      ]
     },
     "metadata": {
      "needs_background": "light"
     },
     "output_type": "display_data"
    }
   ],
   "source": [
    "\"\"\"\n",
    "A a = 1\n",
    "B b = 2\n",
    "C c = 3\n",
    "D d = 4\n",
    "E e = 5\n",
    "F f = 6\n",
    "G g = 7\n",
    "H h = 8\n",
    "I i = 9\n",
    "J j = 10\n",
    "K k = 11\n",
    "L l = 12\n",
    "M m = 13\n",
    "N n = 14\n",
    "O o = 15\n",
    "P p = 16\n",
    "Q q = 17\n",
    "R r = 18\n",
    "S s = 19\n",
    "T t = 20\n",
    "U u = 21\n",
    "V v = 22\n",
    "W w = 23\n",
    "X x = 24\n",
    "Y y = 25\n",
    "Z z = 26 \n",
    "\"\"\"\n",
    "# Зображення перших 30 картинок рупоисних літер\n",
    "f = plt.figure(figsize=(12,4))\n",
    "\n",
    "for i in range(30):\n",
    "    sp = f.add_subplot(3, 10, i+1)\n",
    "    sp.axis('Off')\n",
    "    sp.set_title(preds_correct[i])\n",
    "    img = imgs[i].astype('float32')\n",
    "    plt.imshow(img, cmap='gray')"
   ]
  },
  {
   "cell_type": "markdown",
   "metadata": {},
   "source": []
  }
 ],
 "metadata": {
  "kernelspec": {
   "display_name": "Python 3",
   "language": "python",
   "name": "python3"
  },
  "language_info": {
   "codemirror_mode": {
    "name": "ipython",
    "version": 3
   },
   "file_extension": ".py",
   "mimetype": "text/x-python",
   "name": "python",
   "nbconvert_exporter": "python",
   "pygments_lexer": "ipython3",
   "version": "3.6.8"
  }
 },
 "nbformat": 4,
 "nbformat_minor": 2
}
