{
 "cells": [
  {
   "cell_type": "code",
   "execution_count": 1,
   "metadata": {},
   "outputs": [
    {
     "name": "stderr",
     "output_type": "stream",
     "text": [
      "Using TensorFlow backend.\n"
     ]
    },
    {
     "name": "stdout",
     "output_type": "stream",
     "text": [
      "TensorFlow verison:  1.13.1\n",
      "Keras version:  2.2.4-tf\n",
      "Channels dimension of image:  channels_last\n"
     ]
    }
   ],
   "source": [
    "from scipy import io as spio\n",
    "import numpy as np\n",
    "\n",
    "import tensorflow as tf\n",
    "import tensorflow.keras as keras\n",
    "from keras.backend import tensorflow_backend\n",
    "\n",
    "print(\"TensorFlow verison: \", tf.VERSION)\n",
    "print(\"Keras version: \", tf.keras.__version__)\n",
    "print(\"Channels dimension of image: \", tf.keras.backend.image_data_format())\n",
    "config = tf.ConfigProto(gpu_options=tf.GPUOptions(allow_growth=True))\n",
    "session = tf.Session(config=config)\n",
    "tensorflow_backend.set_session(session)\n",
    "\n",
    "# Loading dataset from MATALB's table\n",
    "emnist = spio.loadmat(\"D:\\Projects\\Jupyter\\emnist_letters_dataset\\emnist-letters.mat\")\n",
    "\n",
    "# Train samples\n",
    "X_train = emnist[\"dataset\"][0][0][0][0][0][0]\n",
    "X_train = X_train.astype(np.float32)\n",
    "\n",
    "# Train targets\n",
    "y_train = emnist[\"dataset\"][0][0][0][0][0][1]\n",
    "\n",
    "# Test samples\n",
    "X_test = emnist[\"dataset\"][0][0][1][0][0][0]\n",
    "X_test = X_test.astype(np.float32)\n",
    "\n",
    "# Test targets\n",
    "y_test = emnist[\"dataset\"][0][0][1][0][0][1]\n"
   ]
  },
  {
   "cell_type": "code",
   "execution_count": 2,
   "metadata": {},
   "outputs": [
    {
     "name": "stdout",
     "output_type": "stream",
     "text": [
      "X_train shape:  (124800, 784)\n",
      "X_test shape:  (20800, 784)\n",
      "y_train shape:  (124800, 1)\n",
      "y_test shape:  (20800, 1)\n"
     ]
    }
   ],
   "source": [
    "print(\"X_train shape: \", X_train.shape)\n",
    "print(\"X_test shape: \", X_test.shape)\n",
    "print(\"y_train shape: \", y_train.shape)\n",
    "print(\"y_test shape: \", y_test.shape)"
   ]
  },
  {
   "cell_type": "code",
   "execution_count": 3,
   "metadata": {},
   "outputs": [],
   "source": [
    "# Reshape X_train and test to (, 28, 28) for visualization\n",
    "X_train_imgs = X_train.reshape(X_train.shape[0], 28, 28, order=\"A\")\n",
    "X_test_imgs = X_test.reshape(X_test.shape[0], 28, 28, order=\"A\")\n",
    "\n",
    "# Reshape from (, 784) to (, 28, 28, 1) input for conv layer\n",
    "X_train = X_train.reshape(X_train.shape[0], 28, 28, 1, order=\"A\")\n",
    "X_test = X_test.reshape(X_test.shape[0], 28, 28, 1, order=\"A\")\n",
    "\n",
    "# Reshape y_train test to 1D array\n",
    "y_train = y_train.ravel()\n",
    "y_test = y_test.ravel()"
   ]
  },
  {
   "cell_type": "code",
   "execution_count": 4,
   "metadata": {},
   "outputs": [],
   "source": [
    "from sklearn.model_selection import train_test_split\n",
    "\n",
    "# Normalize\n",
    "X_train /= 255.0\n",
    "X_test /= 255.0\n",
    "\n",
    "# Creating samples for validating data\n",
    "(X_train, X_valid, y_train, y_valid) = train_test_split(X_train, y_train, \n",
    "                                                        test_size=0.2, random_state=9)"
   ]
  },
  {
   "cell_type": "code",
   "execution_count": 5,
   "metadata": {},
   "outputs": [
    {
     "name": "stdout",
     "output_type": "stream",
     "text": [
      "X_train shape:  (99840, 28, 28, 1)\n",
      "X_valid shape:  (24960, 28, 28, 1)\n",
      "X_test shape:  (20800, 28, 28, 1)\n"
     ]
    }
   ],
   "source": [
    "print(\"X_train shape: \", X_train.shape)\n",
    "print(\"X_valid shape: \", X_valid.shape)\n",
    "print(\"X_test shape: \", X_test.shape)"
   ]
  },
  {
   "cell_type": "code",
   "execution_count": 6,
   "metadata": {},
   "outputs": [
    {
     "data": {
      "image/png": "[encoded data removed]",
      "text/plain": [
       "<Figure size 432x288 with 1 Axes>"
      ]
     },
     "metadata": {
      "needs_background": "light"
     },
     "output_type": "display_data"
    }
   ],
   "source": [
    "%matplotlib inline\n",
    "import matplotlib\n",
    "import matplotlib.pyplot as plt\n",
    "\n",
    "plt.imshow(X_train_imgs[0],cmap=plt.cm.binary)\n",
    "plt.show()"
   ]
  },
  {
   "cell_type": "code",
   "execution_count": 7,
   "metadata": {},
   "outputs": [
    {
     "name": "stdout",
     "output_type": "stream",
     "text": [
      "WARNING:tensorflow:From D:\\Games\\Anaconda3\\lib\\site-packages\\tensorflow\\python\\ops\\resource_variable_ops.py:435: colocate_with (from tensorflow.python.framework.ops) is deprecated and will be removed in a future version.\n",
      "Instructions for updating:\n",
      "Colocations handled automatically by placer.\n",
      "WARNING:tensorflow:From D:\\Games\\Anaconda3\\lib\\site-packages\\tensorflow\\python\\keras\\layers\\core.py:143: calling dropout (from tensorflow.python.ops.nn_ops) with keep_prob is deprecated and will be removed in a future version.\n",
      "Instructions for updating:\n",
      "Please use `rate` instead of `keep_prob`. Rate should be set to `rate = 1 - keep_prob`.\n",
      "Train on 99840 samples, validate on 24960 samples\n",
      "WARNING:tensorflow:From D:\\Games\\Anaconda3\\lib\\site-packages\\tensorflow\\python\\ops\\math_ops.py:3066: to_int32 (from tensorflow.python.ops.math_ops) is deprecated and will be removed in a future version.\n",
      "Instructions for updating:\n",
      "Use tf.cast instead.\n",
      "Epoch 1/1000\n",
      "99840/99840 [==============================] - 31s 307us/sample - loss: 0.8273 - acc: 0.7563 - val_loss: 0.2787 - val_acc: 0.9099\n",
      "Epoch 2/1000\n",
      "99840/99840 [==============================] - 28s 280us/sample - loss: 0.2880 - acc: 0.9071 - val_loss: 0.2070 - val_acc: 0.9307\n",
      "Epoch 3/1000\n",
      "99840/99840 [==============================] - 28s 280us/sample - loss: 0.2343 - acc: 0.9243 - val_loss: 0.1913 - val_acc: 0.9373\n",
      "Epoch 4/1000\n",
      "99840/99840 [==============================] - 28s 279us/sample - loss: 0.2102 - acc: 0.9309 - val_loss: 0.2040 - val_acc: 0.9328\n",
      "Epoch 5/1000\n",
      "99840/99840 [==============================] - 28s 280us/sample - loss: 0.1932 - acc: 0.9354 - val_loss: 0.1735 - val_acc: 0.9414\n",
      "Epoch 6/1000\n",
      "99840/99840 [==============================] - 28s 280us/sample - loss: 0.1793 - acc: 0.9401 - val_loss: 0.1683 - val_acc: 0.9437\n",
      "Epoch 7/1000\n",
      "99840/99840 [==============================] - 28s 280us/sample - loss: 0.1701 - acc: 0.9427 - val_loss: 0.1688 - val_acc: 0.9446\n",
      "Epoch 8/1000\n",
      "99840/99840 [==============================] - 28s 280us/sample - loss: 0.1583 - acc: 0.9453 - val_loss: 0.1661 - val_acc: 0.9449\n",
      "Epoch 9/1000\n",
      "99840/99840 [==============================] - 28s 280us/sample - loss: 0.1505 - acc: 0.9485 - val_loss: 0.1604 - val_acc: 0.9472\n",
      "Epoch 10/1000\n",
      "99840/99840 [==============================] - 28s 281us/sample - loss: 0.1447 - acc: 0.9501 - val_loss: 0.1663 - val_acc: 0.9473\n",
      "Epoch 11/1000\n",
      "99840/99840 [==============================] - 28s 281us/sample - loss: 0.1373 - acc: 0.9518 - val_loss: 0.1569 - val_acc: 0.9481\n",
      "Epoch 12/1000\n",
      "99840/99840 [==============================] - 28s 280us/sample - loss: 0.1343 - acc: 0.9525 - val_loss: 0.1638 - val_acc: 0.9472\n",
      "Epoch 13/1000\n",
      "99840/99840 [==============================] - 28s 281us/sample - loss: 0.1265 - acc: 0.9548 - val_loss: 0.1520 - val_acc: 0.9506\n",
      "Epoch 14/1000\n",
      "99840/99840 [==============================] - 28s 281us/sample - loss: 0.1245 - acc: 0.9554 - val_loss: 0.1561 - val_acc: 0.9502\n",
      "Epoch 15/1000\n",
      "99840/99840 [==============================] - 28s 280us/sample - loss: 0.1171 - acc: 0.9576 - val_loss: 0.1552 - val_acc: 0.9505\n",
      "Epoch 16/1000\n",
      "99840/99840 [==============================] - 28s 280us/sample - loss: 0.1122 - acc: 0.9592 - val_loss: 0.1583 - val_acc: 0.9498\n",
      "Epoch 17/1000\n",
      "99840/99840 [==============================] - 28s 285us/sample - loss: 0.1098 - acc: 0.9598 - val_loss: 0.1582 - val_acc: 0.9504\n",
      "Epoch 18/1000\n",
      "99840/99840 [==============================] - 29s 286us/sample - loss: 0.1061 - acc: 0.9609 - val_loss: 0.1630 - val_acc: 0.9498\n",
      "Epoch 19/1000\n",
      "99840/99840 [==============================] - 28s 281us/sample - loss: 0.1036 - acc: 0.9615 - val_loss: 0.1642 - val_acc: 0.9506\n",
      "Epoch 20/1000\n",
      "99840/99840 [==============================] - 28s 285us/sample - loss: 0.0999 - acc: 0.9623 - val_loss: 0.1581 - val_acc: 0.9513\n",
      "Epoch 21/1000\n",
      "99840/99840 [==============================] - 29s 290us/sample - loss: 0.0991 - acc: 0.9626 - val_loss: 0.1646 - val_acc: 0.9504\n",
      "Epoch 22/1000\n",
      "99840/99840 [==============================] - 29s 289us/sample - loss: 0.0966 - acc: 0.9637 - val_loss: 0.1628 - val_acc: 0.9504\n",
      "Epoch 23/1000\n",
      "99800/99840 [============================>.] - ETA: 0s - loss: 0.0935 - acc: 0.9647\n",
      "Restoring model weights from the end of the best epoch. Best epoch = 13\n",
      "99840/99840 [==============================] - 28s 284us/sample - loss: 0.0935 - acc: 0.9647 - val_loss: 0.1616 - val_acc: 0.9514\n",
      "Epoch 00023: early stopping\n"
     ]
    }
   ],
   "source": [
    "import os\n",
    "from custom_net import CustomNet\n",
    "\n",
    "\n",
    "model = CustomNet.build(width=28, height=28, depth=1, num_classes=27)\n",
    "# Adam(learnig_rate=0.001)\n",
    "model.compile(loss=\"sparse_categorical_crossentropy\", \n",
    "              optimizer=\"adam\", \n",
    "              metrics=[\"accuracy\"])\n",
    "\n",
    "# Early stop for get best model, monitoring by \"val_loss\"\n",
    "early_stop = keras.callbacks.EarlyStopping(monitor='val_loss', mode='min', patience=10, \n",
    "                                           verbose=1, restore_best_weights=True)\n",
    "\n",
    "# Save\n",
    "# checkpoint_path = \"emnist_letters(tf_keras)/cp.ckpt\"\n",
    "# checkpoint_dir = os.path.dirname(checkpoint_path)\n",
    "# cp_callback = k.callbacks.ModelCheckpoint(checkpoint_path, verbose=1, \n",
    "#                                           save_best_only=True)\n",
    "\n",
    "# Fitting model with batch=100, epoch=1000\n",
    "history = model.fit(X_train, y_train, batch_size=100, \n",
    "                    epochs=1000, callbacks=[early_stop], \n",
    "                    validation_data=[X_valid, y_valid], verbose=1)\n"
   ]
  },
  {
   "cell_type": "code",
   "execution_count": 8,
   "metadata": {},
   "outputs": [],
   "source": [
    "model.save(\".\\letters_cnn.h5\")"
   ]
  },
  {
   "cell_type": "code",
   "execution_count": 9,
   "metadata": {},
   "outputs": [
    {
     "name": "stdout",
     "output_type": "stream",
     "text": [
      "20800/20800 [==============================] - 2s 73us/sample - loss: 0.1578 - acc: 0.9488\n"
     ]
    }
   ],
   "source": [
    "# Evalute model\n",
    "score = model.evaluate(X_test, y_test, batch_size=100)\n",
    "# Making predictions\n",
    "predictions = model.predict(X_test)"
   ]
  },
  {
   "cell_type": "code",
   "execution_count": 10,
   "metadata": {},
   "outputs": [
    {
     "name": "stdout",
     "output_type": "stream",
     "text": [
      "Loss =  0.15784353739908197\n",
      "Accuracy = 94.88%\n"
     ]
    }
   ],
   "source": [
    "loss, acc = score\n",
    "print(\"Loss = \", loss)\n",
    "print(\"Accuracy = {:.2f}%\".format(acc * 100))"
   ]
  },
  {
   "cell_type": "code",
   "execution_count": 11,
   "metadata": {},
   "outputs": [
    {
     "name": "stdout",
     "output_type": "stream",
     "text": [
      "              precision    recall  f1-score   support\n",
      "\n",
      "           A       0.96      0.97      0.97       800\n",
      "           B       0.99      0.97      0.98       800\n",
      "           C       0.96      0.99      0.97       800\n",
      "           D       0.95      0.97      0.96       800\n",
      "           E       0.98      0.97      0.98       800\n",
      "           F       0.99      0.97      0.98       800\n",
      "           G       0.91      0.81      0.86       800\n",
      "           H       0.94      0.97      0.96       800\n",
      "           I       0.76      0.76      0.76       800\n",
      "           J       0.98      0.95      0.97       800\n",
      "           K       0.99      0.98      0.99       800\n",
      "           L       0.76      0.77      0.77       800\n",
      "           M       0.98      1.00      0.99       800\n",
      "           N       0.98      0.94      0.96       800\n",
      "           O       0.97      0.98      0.98       800\n",
      "           P       0.99      0.99      0.99       800\n",
      "           Q       0.84      0.92      0.88       800\n",
      "           R       0.96      0.98      0.97       800\n",
      "           S       0.99      0.98      0.98       800\n",
      "           T       0.97      0.99      0.98       800\n",
      "           U       0.96      0.94      0.95       800\n",
      "           V       0.94      0.93      0.94       800\n",
      "           W       0.99      0.99      0.99       800\n",
      "           X       0.98      0.98      0.98       800\n",
      "           Y       0.95      0.97      0.96       800\n",
      "           Z       0.99      1.00      0.99       800\n",
      "\n",
      "   micro avg       0.95      0.95      0.95     20800\n",
      "   macro avg       0.95      0.95      0.95     20800\n",
      "weighted avg       0.95      0.95      0.95     20800\n",
      "\n"
     ]
    }
   ],
   "source": [
    "from sklearn.metrics import classification_report\n",
    "from string import ascii_uppercase as a_u\n",
    "from sklearn.preprocessing import LabelBinarizer\n",
    "\n",
    "le = LabelBinarizer()\n",
    "a_u = [a_u[i:i+1] for i in range(0, len(a_u), 1)]\n",
    "print(classification_report(np.argmax(np.insert(le.fit_transform(y_test), 0, 0, axis=1), axis=1),\n",
    "                            np.argmax(predictions, axis=1), \n",
    "                            target_names=a_u))\n",
    "\n"
   ]
  },
  {
   "cell_type": "code",
   "execution_count": 12,
   "metadata": {},
   "outputs": [
    {
     "data": {
      "text/html": [
       "<div>\n",
       "<style scoped>\n",
       "    .dataframe tbody tr th:only-of-type {\n",
       "        vertical-align: middle;\n",
       "    }\n",
       "\n",
       "    .dataframe tbody tr th {\n",
       "        vertical-align: top;\n",
       "    }\n",
       "\n",
       "    .dataframe thead th {\n",
       "        text-align: right;\n",
       "    }\n",
       "</style>\n",
       "<table border=\"1\" class=\"dataframe\">\n",
       "  <thead>\n",
       "    <tr style=\"text-align: right;\">\n",
       "      <th></th>\n",
       "      <th>loss</th>\n",
       "      <th>acc</th>\n",
       "      <th>val_loss</th>\n",
       "      <th>val_acc</th>\n",
       "    </tr>\n",
       "  </thead>\n",
       "  <tbody>\n",
       "    <tr>\n",
       "      <th>0</th>\n",
       "      <td>0.827293</td>\n",
       "      <td>0.756260</td>\n",
       "      <td>0.278655</td>\n",
       "      <td>0.909936</td>\n",
       "    </tr>\n",
       "    <tr>\n",
       "      <th>1</th>\n",
       "      <td>0.288032</td>\n",
       "      <td>0.907051</td>\n",
       "      <td>0.207004</td>\n",
       "      <td>0.930689</td>\n",
       "    </tr>\n",
       "    <tr>\n",
       "      <th>2</th>\n",
       "      <td>0.234253</td>\n",
       "      <td>0.924309</td>\n",
       "      <td>0.191320</td>\n",
       "      <td>0.937340</td>\n",
       "    </tr>\n",
       "    <tr>\n",
       "      <th>3</th>\n",
       "      <td>0.210229</td>\n",
       "      <td>0.930899</td>\n",
       "      <td>0.204004</td>\n",
       "      <td>0.932772</td>\n",
       "    </tr>\n",
       "    <tr>\n",
       "      <th>4</th>\n",
       "      <td>0.193242</td>\n",
       "      <td>0.935407</td>\n",
       "      <td>0.173523</td>\n",
       "      <td>0.941426</td>\n",
       "    </tr>\n",
       "    <tr>\n",
       "      <th>5</th>\n",
       "      <td>0.179301</td>\n",
       "      <td>0.940054</td>\n",
       "      <td>0.168275</td>\n",
       "      <td>0.943670</td>\n",
       "    </tr>\n",
       "    <tr>\n",
       "      <th>6</th>\n",
       "      <td>0.170130</td>\n",
       "      <td>0.942698</td>\n",
       "      <td>0.168782</td>\n",
       "      <td>0.944591</td>\n",
       "    </tr>\n",
       "    <tr>\n",
       "      <th>7</th>\n",
       "      <td>0.158336</td>\n",
       "      <td>0.945282</td>\n",
       "      <td>0.166077</td>\n",
       "      <td>0.944872</td>\n",
       "    </tr>\n",
       "    <tr>\n",
       "      <th>8</th>\n",
       "      <td>0.150459</td>\n",
       "      <td>0.948468</td>\n",
       "      <td>0.160370</td>\n",
       "      <td>0.947155</td>\n",
       "    </tr>\n",
       "    <tr>\n",
       "      <th>9</th>\n",
       "      <td>0.144709</td>\n",
       "      <td>0.950110</td>\n",
       "      <td>0.166258</td>\n",
       "      <td>0.947316</td>\n",
       "    </tr>\n",
       "    <tr>\n",
       "      <th>10</th>\n",
       "      <td>0.137275</td>\n",
       "      <td>0.951773</td>\n",
       "      <td>0.156922</td>\n",
       "      <td>0.948117</td>\n",
       "    </tr>\n",
       "    <tr>\n",
       "      <th>11</th>\n",
       "      <td>0.134335</td>\n",
       "      <td>0.952474</td>\n",
       "      <td>0.163814</td>\n",
       "      <td>0.947196</td>\n",
       "    </tr>\n",
       "    <tr>\n",
       "      <th>12</th>\n",
       "      <td>0.126529</td>\n",
       "      <td>0.954788</td>\n",
       "      <td>0.151983</td>\n",
       "      <td>0.950601</td>\n",
       "    </tr>\n",
       "    <tr>\n",
       "      <th>13</th>\n",
       "      <td>0.124459</td>\n",
       "      <td>0.955449</td>\n",
       "      <td>0.156148</td>\n",
       "      <td>0.950240</td>\n",
       "    </tr>\n",
       "    <tr>\n",
       "      <th>14</th>\n",
       "      <td>0.117107</td>\n",
       "      <td>0.957612</td>\n",
       "      <td>0.155166</td>\n",
       "      <td>0.950521</td>\n",
       "    </tr>\n",
       "    <tr>\n",
       "      <th>15</th>\n",
       "      <td>0.112165</td>\n",
       "      <td>0.959235</td>\n",
       "      <td>0.158295</td>\n",
       "      <td>0.949760</td>\n",
       "    </tr>\n",
       "    <tr>\n",
       "      <th>16</th>\n",
       "      <td>0.109820</td>\n",
       "      <td>0.959776</td>\n",
       "      <td>0.158198</td>\n",
       "      <td>0.950401</td>\n",
       "    </tr>\n",
       "    <tr>\n",
       "      <th>17</th>\n",
       "      <td>0.106060</td>\n",
       "      <td>0.960857</td>\n",
       "      <td>0.162976</td>\n",
       "      <td>0.949800</td>\n",
       "    </tr>\n",
       "    <tr>\n",
       "      <th>18</th>\n",
       "      <td>0.103614</td>\n",
       "      <td>0.961508</td>\n",
       "      <td>0.164181</td>\n",
       "      <td>0.950561</td>\n",
       "    </tr>\n",
       "    <tr>\n",
       "      <th>19</th>\n",
       "      <td>0.099929</td>\n",
       "      <td>0.962310</td>\n",
       "      <td>0.158142</td>\n",
       "      <td>0.951322</td>\n",
       "    </tr>\n",
       "    <tr>\n",
       "      <th>20</th>\n",
       "      <td>0.099056</td>\n",
       "      <td>0.962590</td>\n",
       "      <td>0.164553</td>\n",
       "      <td>0.950441</td>\n",
       "    </tr>\n",
       "    <tr>\n",
       "      <th>21</th>\n",
       "      <td>0.096638</td>\n",
       "      <td>0.963722</td>\n",
       "      <td>0.162837</td>\n",
       "      <td>0.950401</td>\n",
       "    </tr>\n",
       "    <tr>\n",
       "      <th>22</th>\n",
       "      <td>0.093494</td>\n",
       "      <td>0.964734</td>\n",
       "      <td>0.161580</td>\n",
       "      <td>0.951362</td>\n",
       "    </tr>\n",
       "  </tbody>\n",
       "</table>\n",
       "</div>"
      ],
      "text/plain": [
       "        loss       acc  val_loss   val_acc\n",
       "0   0.827293  0.756260  0.278655  0.909936\n",
       "1   0.288032  0.907051  0.207004  0.930689\n",
       "2   0.234253  0.924309  0.191320  0.937340\n",
       "3   0.210229  0.930899  0.204004  0.932772\n",
       "4   0.193242  0.935407  0.173523  0.941426\n",
       "5   0.179301  0.940054  0.168275  0.943670\n",
       "6   0.170130  0.942698  0.168782  0.944591\n",
       "7   0.158336  0.945282  0.166077  0.944872\n",
       "8   0.150459  0.948468  0.160370  0.947155\n",
       "9   0.144709  0.950110  0.166258  0.947316\n",
       "10  0.137275  0.951773  0.156922  0.948117\n",
       "11  0.134335  0.952474  0.163814  0.947196\n",
       "12  0.126529  0.954788  0.151983  0.950601\n",
       "13  0.124459  0.955449  0.156148  0.950240\n",
       "14  0.117107  0.957612  0.155166  0.950521\n",
       "15  0.112165  0.959235  0.158295  0.949760\n",
       "16  0.109820  0.959776  0.158198  0.950401\n",
       "17  0.106060  0.960857  0.162976  0.949800\n",
       "18  0.103614  0.961508  0.164181  0.950561\n",
       "19  0.099929  0.962310  0.158142  0.951322\n",
       "20  0.099056  0.962590  0.164553  0.950441\n",
       "21  0.096638  0.963722  0.162837  0.950401\n",
       "22  0.093494  0.964734  0.161580  0.951362"
      ]
     },
     "execution_count": 12,
     "metadata": {},
     "output_type": "execute_result"
    }
   ],
   "source": [
    "import pandas as pd\n",
    "\n",
    "hist = pd.DataFrame(history.history)\n",
    "\n",
    "hist"
   ]
  },
  {
   "cell_type": "code",
   "execution_count": 13,
   "metadata": {},
   "outputs": [
    {
     "data": {
      "image/png": "[encoded data removed]",
      "text/plain": [
       "<Figure size 720x576 with 1 Axes>"
      ]
     },
     "metadata": {},
     "output_type": "display_data"
    }
   ],
   "source": [
    "hist['epoch'] = history.epoch\n",
    "\n",
    "plt.style.use(\"ggplot\")\n",
    "plt.figure(figsize=(10, 8))\n",
    "plt.xlabel('Epoch')\n",
    "plt.ylabel('Accuracy')\n",
    "plt.plot(hist['epoch'], hist['acc'], label='Train Accuracy')\n",
    "plt.plot(hist['epoch'], hist['val_acc'], label = 'Val Accuracy')\n",
    "plt.plot(hist['epoch'], hist['loss'], label='Train Loss')\n",
    "plt.plot(hist['epoch'], hist['val_loss'], label='Val Loss')\n",
    "plt.ylim([0,1])\n",
    "plt.legend()\n",
    "\n",
    "plt.show()"
   ]
  },
  {
   "cell_type": "code",
   "execution_count": 14,
   "metadata": {},
   "outputs": [
    {
     "name": "stdout",
     "output_type": "stream",
     "text": [
      "(20800,)\n",
      "(20800,)\n"
     ]
    }
   ],
   "source": [
    "# Making one hot decode from \"predictions\" array, which contains probabilities\n",
    "def one_hot_decode(encoded_seq):\n",
    "    return [np.argmax(vector) for vector in encoded_seq]\n",
    "\n",
    "preds = np.array(one_hot_decode(predictions))\n",
    "\n",
    "print(preds.shape)\n",
    "print(y_test.shape)"
   ]
  },
  {
   "cell_type": "code",
   "execution_count": 15,
   "metadata": {},
   "outputs": [
    {
     "name": "stdout",
     "output_type": "stream",
     "text": [
      "Corresct results = 19736\n",
      "Incorresct results = 1064\n"
     ]
    }
   ],
   "source": [
    "# Calculate correct and incorrect results\n",
    "correct = np.where(preds==y_test)[0]\n",
    "incorrect = np.where(preds!=y_test)[0]\n",
    "\n",
    "print(\"Corresct results =\", correct.shape[0])\n",
    "print(\"Incorresct results =\", incorrect.shape[0])\n",
    "\n",
    "# Amount of images to show\n",
    "n_view = incorrect.shape[0]"
   ]
  },
  {
   "cell_type": "code",
   "execution_count": 16,
   "metadata": {},
   "outputs": [
    {
     "data": {
      "text/plain": [
       "(1064, 28, 28)"
      ]
     },
     "execution_count": 16,
     "metadata": {},
     "output_type": "execute_result"
    }
   ],
   "source": [
    "from numpy.random import permutation\n",
    "\n",
    "# Taking mixed correct and incorrect ids\n",
    "idx = permutation(correct)[:n_view]\n",
    "idx_incorrect = permutation(incorrect)[:n_view]\n",
    "\n",
    "# Creating arrays with randomed ids\n",
    "preds_correct = preds[idx]\n",
    "preds_incorrect = preds[idx_incorrect]\n",
    "\n",
    "# Images to show\n",
    "imgs = X_test_imgs[idx]\n",
    "imgs_incorrect = X_test_imgs[idx_incorrect]\n",
    "\n",
    "imgs.shape"
   ]
  },
  {
   "cell_type": "code",
   "execution_count": 17,
   "metadata": {},
   "outputs": [
    {
     "data": {
      "image/png": "[encoded data removed]",
      "text/plain": [
       "<Figure size 864x288 with 30 Axes>"
      ]
     },
     "metadata": {},
     "output_type": "display_data"
    }
   ],
   "source": [
    "\"\"\"\n",
    "A a = 1\n",
    "B b = 2\n",
    "C c = 3\n",
    "D d = 4\n",
    "E e = 5\n",
    "F f = 6\n",
    "G g = 7\n",
    "H h = 8\n",
    "I i = 9\n",
    "J j = 10\n",
    "K k = 11\n",
    "L l = 12\n",
    "M m = 13\n",
    "N n = 14\n",
    "O o = 15\n",
    "P p = 16\n",
    "Q q = 17\n",
    "R r = 18\n",
    "S s = 19\n",
    "T t = 20\n",
    "U u = 21\n",
    "V v = 22\n",
    "W w = 23\n",
    "X x = 24\n",
    "Y y = 25\n",
    "Z z = 26 \n",
    "\"\"\"\n",
    "# Visulization of randomly selected 30 samples\n",
    "f = plt.figure(figsize=(12,4))\n",
    "\n",
    "for i in range(30):\n",
    "    sp = f.add_subplot(3, 10, i+1)\n",
    "    sp.axis('Off')\n",
    "    sp.set_title(preds_correct[i])\n",
    "    img = imgs[i].astype('float32')\n",
    "    plt.imshow(img, cmap='gray')"
   ]
  },
  {
   "cell_type": "code",
   "execution_count": null,
   "metadata": {},
   "outputs": [],
   "source": []
  }
 ],
 "metadata": {
  "kernelspec": {
   "display_name": "Python 3",
   "language": "python",
   "name": "python3"
  },
  "language_info": {
   "codemirror_mode": {
    "name": "ipython",
    "version": 3
   },
   "file_extension": ".py",
   "mimetype": "text/x-python",
   "name": "python",
   "nbconvert_exporter": "python",
   "pygments_lexer": "ipython3",
   "version": "3.7.3"
  }
 },
 "nbformat": 4,
 "nbformat_minor": 2
}
