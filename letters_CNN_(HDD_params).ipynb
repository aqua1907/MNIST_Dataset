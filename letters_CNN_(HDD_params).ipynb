{
 "cells": [
  {
   "cell_type": "code",
   "execution_count": 1,
   "metadata": {},
   "outputs": [],
   "source": [
    "from scipy import io as spio\n",
    "import numpy as np\n",
    "# Датасет руписних літер\n",
    "emnist = spio.loadmat(\"letters_CNN/emnist-letters.mat\")\n",
    "\n",
    "# Завантаження тренувальної вибірки\n",
    "X_train = emnist[\"dataset\"][0][0][0][0][0][0]\n",
    "X_train = X_train.astype(np.float32)\n",
    "\n",
    "# Завантаження тренувальної вибірки\n",
    "y_train = emnist[\"dataset\"][0][0][0][0][0][1]\n",
    "\n",
    "# Завантаження тестової вибірки\n",
    "X_test = emnist[\"dataset\"][0][0][1][0][0][0]\n",
    "X_test = X_test.astype(np.float32)\n",
    "\n",
    "# Завантаження тестової вибірки\n",
    "y_test = emnist[\"dataset\"][0][0][1][0][0][1]\n"
   ]
  },
  {
   "cell_type": "code",
   "execution_count": 2,
   "metadata": {},
   "outputs": [],
   "source": [
    "def reset_graph(seed=42):\n",
    "    tf.reset_default_graph()\n",
    "    tf.set_random_seed(seed)\n",
    "    np.random.seed(seed)\n",
    "    \n",
    "def shuffle_batch(X, y, batch_size):\n",
    "    rnd_idx = np.random.permutation(len(X))\n",
    "    n_batches = len(X) // batch_size\n",
    "    for batch_idx in np.array_split(rnd_idx, n_batches):\n",
    "        X_batch, y_batch = X[batch_idx], y[batch_idx]\n",
    "        yield X_batch, y_batch\n",
    "        \n",
    "def preds_batch(X, y, batch_size):\n",
    "    rnd_idx = np.arange((len(X_test)))\n",
    "    n_batches = len(X) // batch_size\n",
    "    for batch_idx in np.array_split(rnd_idx, n_batches):\n",
    "        X_batch, y_batch = X[batch_idx], y[batch_idx]\n",
    "        yield X_batch, y_batch "
   ]
  },
  {
   "cell_type": "code",
   "execution_count": 3,
   "metadata": {},
   "outputs": [
    {
     "data": {
      "text/plain": [
       "(124800, 784)"
      ]
     },
     "execution_count": 3,
     "metadata": {},
     "output_type": "execute_result"
    }
   ],
   "source": [
    "X_train.shape"
   ]
  },
  {
   "cell_type": "code",
   "execution_count": 4,
   "metadata": {},
   "outputs": [],
   "source": [
    "X_train_labels = X_train.reshape(X_train.shape[0], 28, 28, order=\"A\")\n",
    "X_test_labels = X_test.reshape(X_test.shape[0], 28, 28, order=\"A\")\n",
    "\n",
    "y_train = y_train.ravel()\n",
    "y_test = y_test.ravel()\n",
    "\n",
    "train_labels = y_train\n",
    "test_labels = y_test"
   ]
  },
  {
   "cell_type": "code",
   "execution_count": 5,
   "metadata": {},
   "outputs": [
    {
     "data": {
      "image/png": "[encoded data removed]",
      "text/plain": [
       "<Figure size 432x288 with 1 Axes>"
      ]
     },
     "metadata": {
      "needs_background": "light"
     },
     "output_type": "display_data"
    }
   ],
   "source": [
    "%matplotlib inline\n",
    "import matplotlib\n",
    "import matplotlib.pyplot as plt\n",
    "\n",
    "plt.imshow(X_train_labels[0],cmap=plt.cm.binary)\n",
    "plt.show()"
   ]
  },
  {
   "cell_type": "code",
   "execution_count": 6,
   "metadata": {},
   "outputs": [],
   "source": [
    "X_train /= 255.0\n",
    "X_test /= 255.0\n",
    "\n",
    "X_valid, X_train = X_train[:5000], X_train[5000:]\n",
    "y_valid, y_train = y_train[:5000], y_train[5000:]"
   ]
  },
  {
   "cell_type": "code",
   "execution_count": 7,
   "metadata": {},
   "outputs": [],
   "source": [
    "import tensorflow as tf\n",
    "\n",
    "height = 28\n",
    "width = 28\n",
    "channels = 1\n",
    "n_inputs = height * width\n",
    "\n",
    "conv1_fmaps = 32\n",
    "conv1_ksize = 3\n",
    "conv1_stride = 1\n",
    "conv1_pad = \"SAME\"\n",
    "\n",
    "conv2_fmaps = 64\n",
    "conv2_ksize = 3\n",
    "conv2_stride = 1\n",
    "conv2_pad = \"SAME\"\n",
    "conv2_dropout_rate = 0.25\n",
    "\n",
    "pool3_fmaps = conv2_fmaps\n",
    "\n",
    "n_fc1 = 256\n",
    "fc1_dropout_rate = 0.5\n",
    "\n",
    "n_outputs = 27\n",
    "\n",
    "reset_graph()\n",
    "\n",
    "with tf.name_scope(\"inputs\"):\n",
    "    X = tf.placeholder(tf.float32, shape=[None, n_inputs], name=\"X\")\n",
    "    X_reshaped = tf.reshape(X, shape=[-1, height, width, channels])\n",
    "    y = tf.placeholder(tf.int32, shape=[None], name=\"y\")\n",
    "    training = tf.placeholder_with_default(False, shape=[], name='training')\n",
    "\n",
    "conv1 = tf.layers.conv2d(X_reshaped, filters=conv1_fmaps, kernel_size=conv1_ksize,\n",
    "                         strides=conv1_stride, padding=conv1_pad,\n",
    "                         activation=tf.nn.relu, name=\"conv1\")\n",
    "conv2 = tf.layers.conv2d(conv1, filters=conv2_fmaps, kernel_size=conv2_ksize,\n",
    "                         strides=conv2_stride, padding=conv2_pad,\n",
    "                         activation=tf.nn.relu, name=\"conv2\")\n",
    "\n",
    "with tf.name_scope(\"pool3\"):\n",
    "    pool3 = tf.nn.max_pool(conv2, ksize=[1, 2, 2, 1], strides=[1, 2, 2, 1], padding=\"VALID\")\n",
    "    pool3_flat = tf.reshape(pool3, shape=[-1, pool3_fmaps * 14 * 14])\n",
    "    pool3_flat_drop = tf.layers.dropout(pool3_flat, conv2_dropout_rate, training=training)\n",
    "\n",
    "with tf.name_scope(\"fc1\"):\n",
    "    fc1 = tf.layers.dense(pool3_flat_drop, n_fc1, activation=tf.nn.relu, name=\"fc1\")\n",
    "    fc1_drop = tf.layers.dropout(fc1, fc1_dropout_rate, training=training)\n",
    "\n",
    "with tf.name_scope(\"output\"):\n",
    "    logits = tf.layers.dense(fc1, n_outputs, name=\"output\")\n",
    "    Y_proba = tf.nn.softmax(logits, name=\"Y_proba\")\n",
    "\n",
    "with tf.name_scope(\"train\"):\n",
    "    xentropy = tf.nn.sparse_softmax_cross_entropy_with_logits(logits=logits, labels=y)\n",
    "    loss = tf.reduce_mean(xentropy)\n",
    "    optimizer = tf.train.AdamOptimizer()\n",
    "    training_op = optimizer.minimize(loss)\n",
    "\n",
    "with tf.name_scope(\"eval\"):\n",
    "    correct = tf.nn.in_top_k(logits, y, 1)\n",
    "    accuracy = tf.reduce_mean(tf.cast(correct, tf.float32))\n",
    "\n",
    "with tf.name_scope(\"init_and_save\"):\n",
    "    init = tf.global_variables_initializer()\n",
    "    saver = tf.train.Saver()"
   ]
  },
  {
   "cell_type": "code",
   "execution_count": 8,
   "metadata": {},
   "outputs": [
    {
     "name": "stdout",
     "output_type": "stream",
     "text": [
      "Epoch 0, last batch accuracy: 94.0000%, valid. accuracy: 92.1600%, valid. best loss: 0.239797\n",
      "Epoch 1, last batch accuracy: 99.0000%, valid. accuracy: 93.0800%, valid. best loss: 0.210584\n",
      "Epoch 2, last batch accuracy: 95.0000%, valid. accuracy: 93.1400%, valid. best loss: 0.210584\n",
      "Epoch 3, last batch accuracy: 95.0000%, valid. accuracy: 93.1400%, valid. best loss: 0.200580\n",
      "Epoch 4, last batch accuracy: 95.0000%, valid. accuracy: 93.3200%, valid. best loss: 0.200580\n",
      "Epoch 5, last batch accuracy: 98.0000%, valid. accuracy: 93.2600%, valid. best loss: 0.200580\n",
      "Epoch 6, last batch accuracy: 97.0000%, valid. accuracy: 93.1400%, valid. best loss: 0.200580\n",
      "Epoch 7, last batch accuracy: 99.0000%, valid. accuracy: 93.1200%, valid. best loss: 0.200580\n",
      "Epoch 8, last batch accuracy: 97.0000%, valid. accuracy: 93.2800%, valid. best loss: 0.200580\n",
      "Epoch 9, last batch accuracy: 100.0000%, valid. accuracy: 93.3000%, valid. best loss: 0.200580\n",
      "Epoch 10, last batch accuracy: 98.0000%, valid. accuracy: 93.4400%, valid. best loss: 0.200580\n",
      "Epoch 11, last batch accuracy: 99.0000%, valid. accuracy: 93.5400%, valid. best loss: 0.200580\n",
      "Epoch 12, last batch accuracy: 100.0000%, valid. accuracy: 93.7600%, valid. best loss: 0.200580\n",
      "Epoch 13, last batch accuracy: 100.0000%, valid. accuracy: 93.6000%, valid. best loss: 0.200580\n",
      "Epoch 14, last batch accuracy: 96.0000%, valid. accuracy: 93.3800%, valid. best loss: 0.200580\n",
      "Epoch 15, last batch accuracy: 100.0000%, valid. accuracy: 93.4600%, valid. best loss: 0.200580\n",
      "Epoch 16, last batch accuracy: 99.0000%, valid. accuracy: 93.5000%, valid. best loss: 0.200580\n",
      "Epoch 17, last batch accuracy: 99.0000%, valid. accuracy: 93.6000%, valid. best loss: 0.200580\n",
      "Epoch 18, last batch accuracy: 99.0000%, valid. accuracy: 93.4000%, valid. best loss: 0.200580\n",
      "Epoch 19, last batch accuracy: 100.0000%, valid. accuracy: 93.2800%, valid. best loss: 0.200580\n",
      "Epoch 20, last batch accuracy: 99.0000%, valid. accuracy: 93.4200%, valid. best loss: 0.200580\n",
      "Epoch 21, last batch accuracy: 100.0000%, valid. accuracy: 93.1400%, valid. best loss: 0.200580\n",
      "Epoch 22, last batch accuracy: 100.0000%, valid. accuracy: 93.0800%, valid. best loss: 0.200580\n",
      "Epoch 23, last batch accuracy: 99.0000%, valid. accuracy: 93.7200%, valid. best loss: 0.200580\n",
      "Early stopping!\n",
      "INFO:tensorflow:Restoring parameters from ./emnist_letters_CNN.ckpt\n",
      "Final test accuracy: 93.21%\n"
     ]
    }
   ],
   "source": [
    "n_epochs = 1000\n",
    "batch_size = 100\n",
    "\n",
    "n_batches = len(X_test) // batch_size\n",
    "batch_acc = 0.0\n",
    "predictions = np.array([]).reshape(-1, n_outputs)\n",
    "\n",
    "best_loss_val = np.infty\n",
    "checks_since_last_progress = 0\n",
    "max_checks_without_progress = 20\n",
    "\n",
    "with tf.Session() as sess:\n",
    "    init.run()\n",
    "    for epoch in range(n_epochs):\n",
    "        for X_batch, y_batch in shuffle_batch(X_train, y_train, batch_size):\n",
    "            sess.run(training_op, feed_dict={X: X_batch, y: y_batch, training: True})\n",
    "        loss_val, acc_val = sess.run([loss, accuracy], feed_dict={X: X_valid, y: y_valid})\n",
    "        if loss_val < best_loss_val:\n",
    "            save_path = saver.save(sess, \"./emnist_letters_CNN.ckpt\")\n",
    "            best_loss_val = loss_val\n",
    "            checks_since_last_progress = 0\n",
    "        else:\n",
    "            checks_since_last_progress += 1\n",
    "            if checks_since_last_progress > max_checks_without_progress:\n",
    "                print(\"Early stopping!\")\n",
    "                break\n",
    "        acc_batch = accuracy.eval(feed_dict={X: X_batch, y: y_batch})\n",
    "        print(\"Epoch {}, last batch accuracy: {:.4f}%, valid. accuracy: {:.4f}%, valid. best loss: {:.6f}\".format(\n",
    "                  epoch, acc_batch * 100, acc_val * 100, best_loss_val))\n",
    "\n",
    "        \n",
    "\n",
    "with tf.Session() as sess:\n",
    "    saver.restore(sess, \"./emnist_letters_CNN.ckpt\")\n",
    "    for X_batch, y_batch in shuffle_batch(X_test, y_test, batch_size): \n",
    "        batch_acc += accuracy.eval(feed_dict={X: X_batch, y: y_batch})\n",
    "        \n",
    "    for X_batch, y_batch in preds_batch(X_test, y_test, batch_size):    \n",
    "        batch_preds = Y_proba.eval(feed_dict={X: X_batch, y: y_batch})\n",
    "        predictions = np.append(predictions, batch_preds, axis=0)\n",
    "    acc_test = batch_acc / n_batches\n",
    "    print(\"Final test accuracy: {:.2f}%\".format(acc_test * 100))\n"
   ]
  },
  {
   "cell_type": "code",
   "execution_count": 9,
   "metadata": {},
   "outputs": [
    {
     "name": "stdout",
     "output_type": "stream",
     "text": [
      "1\n"
     ]
    }
   ],
   "source": [
    "print(np.argmax(predictions[5]))"
   ]
  },
  {
   "cell_type": "code",
   "execution_count": 10,
   "metadata": {},
   "outputs": [
    {
     "data": {
      "image/png": "[encoded data removed]",
      "text/plain": [
       "<Figure size 432x288 with 1 Axes>"
      ]
     },
     "metadata": {
      "needs_background": "light"
     },
     "output_type": "display_data"
    }
   ],
   "source": [
    "plt.imshow(X_test_labels[5],cmap=plt.cm.binary)\n",
    "plt.show()"
   ]
  },
  {
   "cell_type": "code",
   "execution_count": 11,
   "metadata": {},
   "outputs": [
    {
     "name": "stdout",
     "output_type": "stream",
     "text": [
      "(20800,)\n",
      "(20800,)\n"
     ]
    }
   ],
   "source": [
    "# Декодування літер з масиву-прогнозування\n",
    "def one_hot_decode(encoded_seq):\n",
    "    return [np.argmax(vector) for vector in encoded_seq]\n",
    "\n",
    "preds = np.array(one_hot_decode(predictions))\n",
    "\n",
    "print(preds.shape)\n",
    "print(y_test.shape)"
   ]
  },
  {
   "cell_type": "code",
   "execution_count": 12,
   "metadata": {},
   "outputs": [
    {
     "name": "stdout",
     "output_type": "stream",
     "text": [
      "(19388,)\n",
      "(1412,)\n"
     ]
    }
   ],
   "source": [
    "# Підрахунок правильних і неправльних результатів\n",
    "correct = np.where(preds==y_test)[0]\n",
    "incorrect = np.where(preds!=y_test)[0]\n",
    "\n",
    "print(correct.shape)\n",
    "print(incorrect.shape)"
   ]
  },
  {
   "cell_type": "code",
   "execution_count": 13,
   "metadata": {},
   "outputs": [],
   "source": [
    "# К-сть картинок для зображення\n",
    "n_view = incorrect.shape[0]"
   ]
  },
  {
   "cell_type": "code",
   "execution_count": 14,
   "metadata": {},
   "outputs": [],
   "source": [
    "from numpy.random import permutation\n",
    "\n",
    "# Отримання випадкового вибору з правильно-прогнозованих картинок\n",
    "idx = permutation(correct)[:n_view]\n",
    "idx_incorrect = permutation(incorrect)[:n_view]"
   ]
  },
  {
   "cell_type": "code",
   "execution_count": 15,
   "metadata": {},
   "outputs": [
    {
     "data": {
      "text/plain": [
       "(1412, 28, 28)"
      ]
     },
     "execution_count": 15,
     "metadata": {},
     "output_type": "execute_result"
    }
   ],
   "source": [
    "# Створення масиву випадкових результатів\n",
    "preds_correct = preds[idx]\n",
    "preds_incorrect = preds[idx_incorrect]\n",
    "\n",
    "imgs = X_test_labels[idx]\n",
    "imgs_incorrect = X_test_labels[idx_incorrect]\n",
    "\n",
    "imgs.shape"
   ]
  },
  {
   "cell_type": "code",
   "execution_count": 16,
   "metadata": {},
   "outputs": [
    {
     "data": {
      "image/png": "[encoded data removed]",
      "text/plain": [
       "<Figure size 864x288 with 30 Axes>"
      ]
     },
     "metadata": {
      "needs_background": "light"
     },
     "output_type": "display_data"
    }
   ],
   "source": [
    "\"\"\"\n",
    "A a = 1\n",
    "B b = 2\n",
    "C c = 3\n",
    "D d = 4\n",
    "E e = 5\n",
    "F f = 6\n",
    "G g = 7\n",
    "H h = 8\n",
    "I i = 9\n",
    "J j = 10\n",
    "K k = 11\n",
    "L l = 12\n",
    "M m = 13\n",
    "N n = 14\n",
    "O o = 15\n",
    "P p = 16\n",
    "Q q = 17\n",
    "R r = 18\n",
    "S s = 19\n",
    "T t = 20\n",
    "U u = 21\n",
    "V v = 22\n",
    "W w = 23\n",
    "X x = 24\n",
    "Y y = 25\n",
    "Z z = 26 \n",
    "\"\"\"\n",
    "# Зображення перших 30 картинок рупоисних літер\n",
    "f = plt.figure(figsize=(12,4))\n",
    "\n",
    "for i in range(30):\n",
    "    sp = f.add_subplot(3, 10, i+1)\n",
    "    sp.axis('Off')\n",
    "    sp.set_title(preds_correct[i])\n",
    "    img = imgs[i].astype('float32')\n",
    "    plt.imshow(img, cmap='gray')"
   ]
  },
  {
   "cell_type": "code",
   "execution_count": null,
   "metadata": {},
   "outputs": [],
   "source": []
  }
 ],
 "metadata": {
  "kernelspec": {
   "display_name": "Python 3",
   "language": "python",
   "name": "python3"
  },
  "language_info": {
   "codemirror_mode": {
    "name": "ipython",
    "version": 3
   },
   "file_extension": ".py",
   "mimetype": "text/x-python",
   "name": "python",
   "nbconvert_exporter": "python",
   "pygments_lexer": "ipython3",
   "version": "3.7.3"
  }
 },
 "nbformat": 4,
 "nbformat_minor": 2
}
